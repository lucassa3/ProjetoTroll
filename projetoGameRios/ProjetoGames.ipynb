{
 "cells": [
  {
   "cell_type": "code",
   "execution_count": null,
   "metadata": {},
   "outputs": [],
   "source": [
    "import sys\n",
    "import random\n",
    "from math import inf, isinf\n",
    "from queue import Queue\n",
    "import networkx as nx\n",
    "\n",
    "sys.path.append('..')\n",
    "\n",
    "import socnet as sn"
   ]
  },
  {
   "cell_type": "code",
   "execution_count": null,
   "metadata": {
    "collapsed": true
   },
   "outputs": [],
   "source": [
    "sn.graph_width = 800\n",
    "sn.graph_height = 600\n",
    "\n",
    "# grafo dirigido\n",
    "g = nx.DiGraph()"
   ]
  },
  {
   "cell_type": "code",
   "execution_count": null,
   "metadata": {
    "collapsed": true
   },
   "outputs": [],
   "source": [
    "#Configs iniciais\n",
    "sn.edge_width = 1\n",
    "\n",
    "white = (0,0,0)\n",
    "red = (255, 0, 0)\n",
    "blue = (0, 0, 255)\n",
    "black = (0,0,0)\n",
    "\n",
    "def createGraph(nodes):\n",
    "    \n",
    "    for i in range(nodes):\n",
    "        g.add_node(i)\n",
    "    \n",
    "    for n in g.nodes():\n",
    "        g.nodes[n]['competencia'] = random.randint(1,10)\n",
    "        g.nodes[n]['experiencia'] = 0\n",
    "        g.nodes[n]['pos'] = (random.uniform(0,8), random.uniform(0,8))\n",
    "\n",
    "    #Cor baseado na competencia(vermelho -> competente, azul -> pouco competente)\n",
    "    for n in g.nodes():\n",
    "        if g.nodes[n]['competencia'] >= 5:\n",
    "            g.nodes[n]['color'] = red\n",
    "        else:\n",
    "            g.nodes[n]['color'] = blue\n",
    "\n",
    "    for n in g.nodes():\n",
    "        for m in g.nodes():\n",
    "            if n != m:\n",
    "                g.add_edge(n,m)\n",
    "\n",
    "\n",
    "    for n, m in g.edges():\n",
    "        g.edges[n,m]['color'] = black\n",
    "    "
   ]
  },
  {
   "cell_type": "code",
   "execution_count": null,
   "metadata": {
    "collapsed": true
   },
   "outputs": [],
   "source": [
    "def add_player(maior, players):\n",
    "    \n",
    "    while players > 0:\n",
    "        #Adicionar player por iteração\n",
    "        g.add_node(maior) \n",
    "        #experiencia dos novos players\n",
    "        g.nodes[maior]['experiencia'] = 0\n",
    "        #competencia dos novos players\n",
    "        g.nodes[maior]['competencia'] = random.randint(1,10)\n",
    "        #pos dos novos players\n",
    "        g.nodes[maior]['pos'] = (random.uniform(0,8), random.uniform(0,8))\n",
    "        #Cor baseado na competencia(vermelho -> competente, azul -> pouco competente)\n",
    "        for n in g.nodes():\n",
    "            if g.nodes[n]['competencia'] >= 5:\n",
    "                g.nodes[n]['color'] = red\n",
    "            else:\n",
    "                g.nodes[n]['color'] = blue\n",
    "        #edges dos novos players\n",
    "        for n in g.nodes():\n",
    "            if n != maior and g.nodes[n]['competencia'] > 5:\n",
    "                g.add_edge(n,maior)\n",
    "                g.edges[n,maior]['color'] = black\n",
    "\n",
    "        maior   += 1\n",
    "        players -= 1\n",
    "        \n",
    "def remove_edges():\n",
    "    # remove arestas entre players\n",
    "    for n in g.nodes():\n",
    "        for m in g.nodes():\n",
    "            if n != m:\n",
    "                if (n, m) in g.edges():\n",
    "                    if g.nodes[n]['competencia'] < g.nodes[m]['competencia']:\n",
    "                        g.remove_edge(n,m)"
   ]
  },
  {
   "cell_type": "code",
   "execution_count": null,
   "metadata": {
    "collapsed": true
   },
   "outputs": [],
   "source": [
    "# iterações de tempo de jogo para todos os players\n",
    "\n",
    "tempo_jogo = 2 # iterações\n",
    "intervalo_competencia = 2\n",
    "\n",
    "createGraph(10) #nodes iniciais\n",
    "\n",
    "while tempo_jogo > 0:\n",
    "    \n",
    "    maior = 0\n",
    "    for n in g.nodes():\n",
    "        if n > maior:\n",
    "            maior = n\n",
    "            \n",
    "         \n",
    "    add_player(maior,2) # maior nó no grafo, quantos players novos\n",
    "    remove_edges()# remover arestas entre players \n",
    "\n",
    "    \n",
    "    for n in g.nodes():\n",
    "        g.nodes[n]['experiencia'] += random.randint(1,5)\n",
    "    \n",
    "    tempo_jogo -= 1\n"
   ]
  },
  {
   "cell_type": "code",
   "execution_count": null,
   "metadata": {},
   "outputs": [],
   "source": [
    "sn.show_graph(g.to_directed())\n",
    "print(g.edges())"
   ]
  },
  {
   "cell_type": "code",
   "execution_count": null,
   "metadata": {
    "collapsed": true
   },
   "outputs": [],
   "source": []
  }
 ],
 "metadata": {
  "kernelspec": {
   "display_name": "Python 3",
   "language": "python",
   "name": "python3"
  },
  "language_info": {
   "codemirror_mode": {
    "name": "ipython",
    "version": 3
   },
   "file_extension": ".py",
   "mimetype": "text/x-python",
   "name": "python",
   "nbconvert_exporter": "python",
   "pygments_lexer": "ipython3",
   "version": "3.5.2+"
  }
 },
 "nbformat": 4,
 "nbformat_minor": 2
}
